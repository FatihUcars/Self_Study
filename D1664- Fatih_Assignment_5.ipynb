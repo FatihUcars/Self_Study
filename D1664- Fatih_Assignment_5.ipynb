{
 "cells": [
  {
   "cell_type": "code",
   "execution_count": 3,
   "id": "bb78d038",
   "metadata": {},
   "outputs": [],
   "source": [
    "import scipy\n",
    "import pandas as pd\n",
    "import numpy as np\n",
    "from scipy import stats"
   ]
  },
  {
   "cell_type": "markdown",
   "id": "eb507789",
   "metadata": {},
   "source": [
    "EXERCISE 1. The hourly wages in a particular industry are normally distributed with mean $13.20 and standard deviation $2.50. A company in this industry employs 40 workers, paying them an average of $12.20 per hour. Can this company be accused of paying substandard wages? Use an α = .01 level test. (Wackerly, Ex.10.18)\n",
    "CHECK: statistic: -2.5298221281347035, pvalue= 0.005706018193000826"
   ]
  },
  {
   "cell_type": "code",
   "execution_count": 4,
   "id": "e89d564f",
   "metadata": {},
   "outputs": [],
   "source": [
    "#H0: mu = 13.2\n",
    "#H1: mu<13.2"
   ]
  },
  {
   "cell_type": "code",
   "execution_count": 7,
   "id": "c2be4f06",
   "metadata": {},
   "outputs": [],
   "source": [
    "xbar = 12.2\n",
    "S = 2.5\n",
    "n = 40"
   ]
  },
  {
   "cell_type": "code",
   "execution_count": 21,
   "id": "24f67aa7",
   "metadata": {},
   "outputs": [
    {
     "data": {
      "text/plain": [
       "-2.5298221281347035"
      ]
     },
     "execution_count": 21,
     "metadata": {},
     "output_type": "execute_result"
    }
   ],
   "source": [
    "#n>30, we use z-test\n",
    "z_test = (xbar-13.2) / (S/np.sqrt(n))\n",
    "z_test"
   ]
  },
  {
   "cell_type": "code",
   "execution_count": 23,
   "id": "01ae7043",
   "metadata": {},
   "outputs": [
    {
     "data": {
      "text/plain": [
       "0.005706018193000826"
      ]
     },
     "execution_count": 23,
     "metadata": {},
     "output_type": "execute_result"
    }
   ],
   "source": [
    "#p-value\n",
    "p_value = scipy.stats.norm.sf(abs(z_test))\n",
    "p_value"
   ]
  },
  {
   "cell_type": "code",
   "execution_count": 24,
   "id": "c5845bc0",
   "metadata": {},
   "outputs": [
    {
     "name": "stdout",
     "output_type": "stream",
     "text": [
      "Reject the null\n"
     ]
    }
   ],
   "source": [
    "# Compare p-value and alpha\n",
    "alpha = 0.01\n",
    "\n",
    "if p_value < alpha:\n",
    "    print(\"Reject the null\")\n",
    "else:\n",
    "    print(\"Fail to reject the null\")"
   ]
  },
  {
   "cell_type": "code",
   "execution_count": null,
   "id": "d3151ba3",
   "metadata": {},
   "outputs": [],
   "source": []
  },
  {
   "cell_type": "markdown",
   "id": "e71388bb",
   "metadata": {},
   "source": [
    "EXERCISE 2.Shear strength measurements derived from unconfined compression tests for two types of soils gave the results shown in the following document (measurements in tons per square foot). Do the soils appear to differ with respect to average shear strength, at the 1% significance level?\n",
    "CHECK: statistic: 5.1681473319343345, pvalue= 2.593228732352821e-06"
   ]
  },
  {
   "cell_type": "code",
   "execution_count": 37,
   "id": "1feccd7f",
   "metadata": {},
   "outputs": [],
   "source": [
    "soil = pd.read_csv(\"Soil.csv\")"
   ]
  },
  {
   "cell_type": "code",
   "execution_count": 38,
   "id": "cca05173",
   "metadata": {},
   "outputs": [
    {
     "data": {
      "text/html": [
       "<div>\n",
       "<style scoped>\n",
       "    .dataframe tbody tr th:only-of-type {\n",
       "        vertical-align: middle;\n",
       "    }\n",
       "\n",
       "    .dataframe tbody tr th {\n",
       "        vertical-align: top;\n",
       "    }\n",
       "\n",
       "    .dataframe thead th {\n",
       "        text-align: right;\n",
       "    }\n",
       "</style>\n",
       "<table border=\"1\" class=\"dataframe\">\n",
       "  <thead>\n",
       "    <tr style=\"text-align: right;\">\n",
       "      <th></th>\n",
       "      <th>Soil1</th>\n",
       "      <th>Soil2</th>\n",
       "    </tr>\n",
       "  </thead>\n",
       "  <tbody>\n",
       "    <tr>\n",
       "      <th>0</th>\n",
       "      <td>1.442</td>\n",
       "      <td>1.364</td>\n",
       "    </tr>\n",
       "    <tr>\n",
       "      <th>1</th>\n",
       "      <td>1.943</td>\n",
       "      <td>1.878</td>\n",
       "    </tr>\n",
       "    <tr>\n",
       "      <th>2</th>\n",
       "      <td>1.110</td>\n",
       "      <td>1.337</td>\n",
       "    </tr>\n",
       "    <tr>\n",
       "      <th>3</th>\n",
       "      <td>1.912</td>\n",
       "      <td>1.828</td>\n",
       "    </tr>\n",
       "    <tr>\n",
       "      <th>4</th>\n",
       "      <td>1.553</td>\n",
       "      <td>1.371</td>\n",
       "    </tr>\n",
       "    <tr>\n",
       "      <th>5</th>\n",
       "      <td>1.641</td>\n",
       "      <td>1.428</td>\n",
       "    </tr>\n",
       "    <tr>\n",
       "      <th>6</th>\n",
       "      <td>1.499</td>\n",
       "      <td>1.119</td>\n",
       "    </tr>\n",
       "    <tr>\n",
       "      <th>7</th>\n",
       "      <td>1.347</td>\n",
       "      <td>1.373</td>\n",
       "    </tr>\n",
       "    <tr>\n",
       "      <th>8</th>\n",
       "      <td>1.685</td>\n",
       "      <td>1.589</td>\n",
       "    </tr>\n",
       "    <tr>\n",
       "      <th>9</th>\n",
       "      <td>1.578</td>\n",
       "      <td>1.714</td>\n",
       "    </tr>\n",
       "    <tr>\n",
       "      <th>10</th>\n",
       "      <td>1.866</td>\n",
       "      <td>1.260</td>\n",
       "    </tr>\n",
       "    <tr>\n",
       "      <th>11</th>\n",
       "      <td>1.653</td>\n",
       "      <td>1.492</td>\n",
       "    </tr>\n",
       "    <tr>\n",
       "      <th>12</th>\n",
       "      <td>1.665</td>\n",
       "      <td>1.395</td>\n",
       "    </tr>\n",
       "    <tr>\n",
       "      <th>13</th>\n",
       "      <td>1.640</td>\n",
       "      <td>1.778</td>\n",
       "    </tr>\n",
       "    <tr>\n",
       "      <th>14</th>\n",
       "      <td>1.976</td>\n",
       "      <td>1.611</td>\n",
       "    </tr>\n",
       "    <tr>\n",
       "      <th>15</th>\n",
       "      <td>1.754</td>\n",
       "      <td>1.202</td>\n",
       "    </tr>\n",
       "    <tr>\n",
       "      <th>16</th>\n",
       "      <td>1.589</td>\n",
       "      <td>1.542</td>\n",
       "    </tr>\n",
       "    <tr>\n",
       "      <th>17</th>\n",
       "      <td>1.976</td>\n",
       "      <td>1.094</td>\n",
       "    </tr>\n",
       "    <tr>\n",
       "      <th>18</th>\n",
       "      <td>1.863</td>\n",
       "      <td>1.557</td>\n",
       "    </tr>\n",
       "    <tr>\n",
       "      <th>19</th>\n",
       "      <td>1.932</td>\n",
       "      <td>1.053</td>\n",
       "    </tr>\n",
       "    <tr>\n",
       "      <th>20</th>\n",
       "      <td>1.570</td>\n",
       "      <td>1.183</td>\n",
       "    </tr>\n",
       "    <tr>\n",
       "      <th>21</th>\n",
       "      <td>1.613</td>\n",
       "      <td>1.367</td>\n",
       "    </tr>\n",
       "    <tr>\n",
       "      <th>22</th>\n",
       "      <td>2.054</td>\n",
       "      <td>1.144</td>\n",
       "    </tr>\n",
       "    <tr>\n",
       "      <th>23</th>\n",
       "      <td>1.550</td>\n",
       "      <td>1.151</td>\n",
       "    </tr>\n",
       "    <tr>\n",
       "      <th>24</th>\n",
       "      <td>1.714</td>\n",
       "      <td>1.561</td>\n",
       "    </tr>\n",
       "    <tr>\n",
       "      <th>25</th>\n",
       "      <td>1.896</td>\n",
       "      <td>1.192</td>\n",
       "    </tr>\n",
       "    <tr>\n",
       "      <th>26</th>\n",
       "      <td>1.737</td>\n",
       "      <td>1.489</td>\n",
       "    </tr>\n",
       "    <tr>\n",
       "      <th>27</th>\n",
       "      <td>1.740</td>\n",
       "      <td>1.379</td>\n",
       "    </tr>\n",
       "    <tr>\n",
       "      <th>28</th>\n",
       "      <td>1.708</td>\n",
       "      <td>1.501</td>\n",
       "    </tr>\n",
       "    <tr>\n",
       "      <th>29</th>\n",
       "      <td>1.548</td>\n",
       "      <td>1.277</td>\n",
       "    </tr>\n",
       "    <tr>\n",
       "      <th>30</th>\n",
       "      <td>NaN</td>\n",
       "      <td>1.593</td>\n",
       "    </tr>\n",
       "    <tr>\n",
       "      <th>31</th>\n",
       "      <td>NaN</td>\n",
       "      <td>1.172</td>\n",
       "    </tr>\n",
       "    <tr>\n",
       "      <th>32</th>\n",
       "      <td>NaN</td>\n",
       "      <td>1.510</td>\n",
       "    </tr>\n",
       "    <tr>\n",
       "      <th>33</th>\n",
       "      <td>NaN</td>\n",
       "      <td>1.740</td>\n",
       "    </tr>\n",
       "    <tr>\n",
       "      <th>34</th>\n",
       "      <td>NaN</td>\n",
       "      <td>1.355</td>\n",
       "    </tr>\n",
       "  </tbody>\n",
       "</table>\n",
       "</div>"
      ],
      "text/plain": [
       "    Soil1  Soil2\n",
       "0   1.442  1.364\n",
       "1   1.943  1.878\n",
       "2   1.110  1.337\n",
       "3   1.912  1.828\n",
       "4   1.553  1.371\n",
       "5   1.641  1.428\n",
       "6   1.499  1.119\n",
       "7   1.347  1.373\n",
       "8   1.685  1.589\n",
       "9   1.578  1.714\n",
       "10  1.866  1.260\n",
       "11  1.653  1.492\n",
       "12  1.665  1.395\n",
       "13  1.640  1.778\n",
       "14  1.976  1.611\n",
       "15  1.754  1.202\n",
       "16  1.589  1.542\n",
       "17  1.976  1.094\n",
       "18  1.863  1.557\n",
       "19  1.932  1.053\n",
       "20  1.570  1.183\n",
       "21  1.613  1.367\n",
       "22  2.054  1.144\n",
       "23  1.550  1.151\n",
       "24  1.714  1.561\n",
       "25  1.896  1.192\n",
       "26  1.737  1.489\n",
       "27  1.740  1.379\n",
       "28  1.708  1.501\n",
       "29  1.548  1.277\n",
       "30    NaN  1.593\n",
       "31    NaN  1.172\n",
       "32    NaN  1.510\n",
       "33    NaN  1.740\n",
       "34    NaN  1.355"
      ]
     },
     "execution_count": 38,
     "metadata": {},
     "output_type": "execute_result"
    }
   ],
   "source": [
    "soil"
   ]
  },
  {
   "cell_type": "code",
   "execution_count": 45,
   "id": "1ad6de8a",
   "metadata": {},
   "outputs": [],
   "source": [
    "soil_new = soil.dropna()"
   ]
  },
  {
   "cell_type": "code",
   "execution_count": 46,
   "id": "ff746b98",
   "metadata": {},
   "outputs": [
    {
     "data": {
      "text/html": [
       "<div>\n",
       "<style scoped>\n",
       "    .dataframe tbody tr th:only-of-type {\n",
       "        vertical-align: middle;\n",
       "    }\n",
       "\n",
       "    .dataframe tbody tr th {\n",
       "        vertical-align: top;\n",
       "    }\n",
       "\n",
       "    .dataframe thead th {\n",
       "        text-align: right;\n",
       "    }\n",
       "</style>\n",
       "<table border=\"1\" class=\"dataframe\">\n",
       "  <thead>\n",
       "    <tr style=\"text-align: right;\">\n",
       "      <th></th>\n",
       "      <th>Soil1</th>\n",
       "      <th>Soil2</th>\n",
       "    </tr>\n",
       "  </thead>\n",
       "  <tbody>\n",
       "    <tr>\n",
       "      <th>0</th>\n",
       "      <td>1.442</td>\n",
       "      <td>1.364</td>\n",
       "    </tr>\n",
       "    <tr>\n",
       "      <th>1</th>\n",
       "      <td>1.943</td>\n",
       "      <td>1.878</td>\n",
       "    </tr>\n",
       "    <tr>\n",
       "      <th>2</th>\n",
       "      <td>1.110</td>\n",
       "      <td>1.337</td>\n",
       "    </tr>\n",
       "    <tr>\n",
       "      <th>3</th>\n",
       "      <td>1.912</td>\n",
       "      <td>1.828</td>\n",
       "    </tr>\n",
       "    <tr>\n",
       "      <th>4</th>\n",
       "      <td>1.553</td>\n",
       "      <td>1.371</td>\n",
       "    </tr>\n",
       "    <tr>\n",
       "      <th>5</th>\n",
       "      <td>1.641</td>\n",
       "      <td>1.428</td>\n",
       "    </tr>\n",
       "    <tr>\n",
       "      <th>6</th>\n",
       "      <td>1.499</td>\n",
       "      <td>1.119</td>\n",
       "    </tr>\n",
       "    <tr>\n",
       "      <th>7</th>\n",
       "      <td>1.347</td>\n",
       "      <td>1.373</td>\n",
       "    </tr>\n",
       "    <tr>\n",
       "      <th>8</th>\n",
       "      <td>1.685</td>\n",
       "      <td>1.589</td>\n",
       "    </tr>\n",
       "    <tr>\n",
       "      <th>9</th>\n",
       "      <td>1.578</td>\n",
       "      <td>1.714</td>\n",
       "    </tr>\n",
       "    <tr>\n",
       "      <th>10</th>\n",
       "      <td>1.866</td>\n",
       "      <td>1.260</td>\n",
       "    </tr>\n",
       "    <tr>\n",
       "      <th>11</th>\n",
       "      <td>1.653</td>\n",
       "      <td>1.492</td>\n",
       "    </tr>\n",
       "    <tr>\n",
       "      <th>12</th>\n",
       "      <td>1.665</td>\n",
       "      <td>1.395</td>\n",
       "    </tr>\n",
       "    <tr>\n",
       "      <th>13</th>\n",
       "      <td>1.640</td>\n",
       "      <td>1.778</td>\n",
       "    </tr>\n",
       "    <tr>\n",
       "      <th>14</th>\n",
       "      <td>1.976</td>\n",
       "      <td>1.611</td>\n",
       "    </tr>\n",
       "    <tr>\n",
       "      <th>15</th>\n",
       "      <td>1.754</td>\n",
       "      <td>1.202</td>\n",
       "    </tr>\n",
       "    <tr>\n",
       "      <th>16</th>\n",
       "      <td>1.589</td>\n",
       "      <td>1.542</td>\n",
       "    </tr>\n",
       "    <tr>\n",
       "      <th>17</th>\n",
       "      <td>1.976</td>\n",
       "      <td>1.094</td>\n",
       "    </tr>\n",
       "    <tr>\n",
       "      <th>18</th>\n",
       "      <td>1.863</td>\n",
       "      <td>1.557</td>\n",
       "    </tr>\n",
       "    <tr>\n",
       "      <th>19</th>\n",
       "      <td>1.932</td>\n",
       "      <td>1.053</td>\n",
       "    </tr>\n",
       "    <tr>\n",
       "      <th>20</th>\n",
       "      <td>1.570</td>\n",
       "      <td>1.183</td>\n",
       "    </tr>\n",
       "    <tr>\n",
       "      <th>21</th>\n",
       "      <td>1.613</td>\n",
       "      <td>1.367</td>\n",
       "    </tr>\n",
       "    <tr>\n",
       "      <th>22</th>\n",
       "      <td>2.054</td>\n",
       "      <td>1.144</td>\n",
       "    </tr>\n",
       "    <tr>\n",
       "      <th>23</th>\n",
       "      <td>1.550</td>\n",
       "      <td>1.151</td>\n",
       "    </tr>\n",
       "    <tr>\n",
       "      <th>24</th>\n",
       "      <td>1.714</td>\n",
       "      <td>1.561</td>\n",
       "    </tr>\n",
       "    <tr>\n",
       "      <th>25</th>\n",
       "      <td>1.896</td>\n",
       "      <td>1.192</td>\n",
       "    </tr>\n",
       "    <tr>\n",
       "      <th>26</th>\n",
       "      <td>1.737</td>\n",
       "      <td>1.489</td>\n",
       "    </tr>\n",
       "    <tr>\n",
       "      <th>27</th>\n",
       "      <td>1.740</td>\n",
       "      <td>1.379</td>\n",
       "    </tr>\n",
       "    <tr>\n",
       "      <th>28</th>\n",
       "      <td>1.708</td>\n",
       "      <td>1.501</td>\n",
       "    </tr>\n",
       "    <tr>\n",
       "      <th>29</th>\n",
       "      <td>1.548</td>\n",
       "      <td>1.277</td>\n",
       "    </tr>\n",
       "  </tbody>\n",
       "</table>\n",
       "</div>"
      ],
      "text/plain": [
       "    Soil1  Soil2\n",
       "0   1.442  1.364\n",
       "1   1.943  1.878\n",
       "2   1.110  1.337\n",
       "3   1.912  1.828\n",
       "4   1.553  1.371\n",
       "5   1.641  1.428\n",
       "6   1.499  1.119\n",
       "7   1.347  1.373\n",
       "8   1.685  1.589\n",
       "9   1.578  1.714\n",
       "10  1.866  1.260\n",
       "11  1.653  1.492\n",
       "12  1.665  1.395\n",
       "13  1.640  1.778\n",
       "14  1.976  1.611\n",
       "15  1.754  1.202\n",
       "16  1.589  1.542\n",
       "17  1.976  1.094\n",
       "18  1.863  1.557\n",
       "19  1.932  1.053\n",
       "20  1.570  1.183\n",
       "21  1.613  1.367\n",
       "22  2.054  1.144\n",
       "23  1.550  1.151\n",
       "24  1.714  1.561\n",
       "25  1.896  1.192\n",
       "26  1.737  1.489\n",
       "27  1.740  1.379\n",
       "28  1.708  1.501\n",
       "29  1.548  1.277"
      ]
     },
     "execution_count": 46,
     "metadata": {},
     "output_type": "execute_result"
    }
   ],
   "source": [
    "soil_new"
   ]
  },
  {
   "cell_type": "code",
   "execution_count": null,
   "id": "d3ccc29b",
   "metadata": {},
   "outputs": [],
   "source": [
    "#H0: mu1 = mu2\n",
    "#H1: mu1 != mu2"
   ]
  },
  {
   "cell_type": "code",
   "execution_count": 47,
   "id": "e327b55e",
   "metadata": {},
   "outputs": [
    {
     "data": {
      "text/plain": [
       "LeveneResult(statistic=0.2323198108973329, pvalue=0.631622932753579)"
      ]
     },
     "execution_count": 47,
     "metadata": {},
     "output_type": "execute_result"
    }
   ],
   "source": [
    "#Levene test for equal variances\n",
    "#H0: The population variances are equal\n",
    "#H1: The population variances are NOT equal\n",
    "#The small p-value suggests that the populations do not have equal variances.\n",
    "leveneTest = stats.levene(soil_new.Soil1, soil_new.Soil2)\n",
    "leveneTest"
   ]
  },
  {
   "cell_type": "code",
   "execution_count": 60,
   "id": "f1c7ab77",
   "metadata": {},
   "outputs": [
    {
     "data": {
      "text/plain": [
       "1.6918"
      ]
     },
     "execution_count": 60,
     "metadata": {},
     "output_type": "execute_result"
    }
   ],
   "source": [
    "soil.Soil1.mean()"
   ]
  },
  {
   "cell_type": "code",
   "execution_count": 61,
   "id": "b6242bdc",
   "metadata": {},
   "outputs": [
    {
     "data": {
      "text/plain": [
       "1.4171142857142855"
      ]
     },
     "execution_count": 61,
     "metadata": {},
     "output_type": "execute_result"
    }
   ],
   "source": [
    "soil.Soil2.mean()"
   ]
  },
  {
   "cell_type": "code",
   "execution_count": 62,
   "id": "04a3db81",
   "metadata": {
    "scrolled": true
   },
   "outputs": [],
   "source": [
    "indTest = stats.ttest_ind(soil.Soil1, soil.Soil2, nan_policy=\"omit\", equal_var=True)"
   ]
  },
  {
   "cell_type": "code",
   "execution_count": 63,
   "id": "2f774f68",
   "metadata": {},
   "outputs": [
    {
     "data": {
      "text/plain": [
       "5.1681473319343345"
      ]
     },
     "execution_count": 63,
     "metadata": {},
     "output_type": "execute_result"
    }
   ],
   "source": [
    "indTest.statistic"
   ]
  },
  {
   "cell_type": "code",
   "execution_count": 64,
   "id": "d2f016c2",
   "metadata": {},
   "outputs": [
    {
     "data": {
      "text/plain": [
       "2.5932287323528147e-06"
      ]
     },
     "execution_count": 64,
     "metadata": {},
     "output_type": "execute_result"
    }
   ],
   "source": [
    "indTest.pvalue"
   ]
  },
  {
   "cell_type": "code",
   "execution_count": 65,
   "id": "9ed636a5",
   "metadata": {},
   "outputs": [
    {
     "name": "stdout",
     "output_type": "stream",
     "text": [
      "Reject the null\n"
     ]
    }
   ],
   "source": [
    "alpha = 0.01\n",
    "\n",
    "if indTest.pvalue < alpha:\n",
    "    print(\"Reject the null\")\n",
    "else:\n",
    "    print(\"Fail to reject the null\")"
   ]
  },
  {
   "cell_type": "code",
   "execution_count": null,
   "id": "2f93ddeb",
   "metadata": {},
   "outputs": [],
   "source": []
  },
  {
   "cell_type": "markdown",
   "id": "23d2a586",
   "metadata": {},
   "source": [
    "EXERCISE 3. The following dataset is based on data provided by the World Bank (https://datacatalog.worldbank.org/dataset/education-statistics). World Bank Edstats.  2015 PISA Test Dataset\n",
    "\n",
    "Get descriptive statistics (the central tendency, dispersion and shape of a dataset’s distribution) for each continent group (AS, EU, AF, NA, SA, OC).\n",
    "Determine whether there is any difference (on the average) for the math scores among European (EU) and Asian (AS) countries (assume normality and equal variances). Draw side-by-side box plots.\n",
    "CHECK: statistic=0.870055317967983, pvalue=0.38826888111307345"
   ]
  },
  {
   "cell_type": "code",
   "execution_count": 68,
   "id": "30dd1450",
   "metadata": {},
   "outputs": [
    {
     "data": {
      "text/html": [
       "<div>\n",
       "<style scoped>\n",
       "    .dataframe tbody tr th:only-of-type {\n",
       "        vertical-align: middle;\n",
       "    }\n",
       "\n",
       "    .dataframe tbody tr th {\n",
       "        vertical-align: top;\n",
       "    }\n",
       "\n",
       "    .dataframe thead th {\n",
       "        text-align: right;\n",
       "    }\n",
       "</style>\n",
       "<table border=\"1\" class=\"dataframe\">\n",
       "  <thead>\n",
       "    <tr style=\"text-align: right;\">\n",
       "      <th></th>\n",
       "      <th>Country Code</th>\n",
       "      <th>Continent_Code</th>\n",
       "      <th>internet_users_per_100</th>\n",
       "      <th>Math</th>\n",
       "      <th>Reading</th>\n",
       "      <th>Science</th>\n",
       "    </tr>\n",
       "  </thead>\n",
       "  <tbody>\n",
       "    <tr>\n",
       "      <th>0</th>\n",
       "      <td>ALB</td>\n",
       "      <td>EU</td>\n",
       "      <td>63.252933</td>\n",
       "      <td>413.1570</td>\n",
       "      <td>405.2588</td>\n",
       "      <td>427.2250</td>\n",
       "    </tr>\n",
       "    <tr>\n",
       "      <th>1</th>\n",
       "      <td>ARE</td>\n",
       "      <td>AS</td>\n",
       "      <td>90.500000</td>\n",
       "      <td>427.4827</td>\n",
       "      <td>433.5423</td>\n",
       "      <td>436.7311</td>\n",
       "    </tr>\n",
       "    <tr>\n",
       "      <th>2</th>\n",
       "      <td>ARG</td>\n",
       "      <td>SA</td>\n",
       "      <td>68.043064</td>\n",
       "      <td>409.0333</td>\n",
       "      <td>425.3031</td>\n",
       "      <td>432.2262</td>\n",
       "    </tr>\n",
       "    <tr>\n",
       "      <th>3</th>\n",
       "      <td>AUS</td>\n",
       "      <td>OC</td>\n",
       "      <td>84.560519</td>\n",
       "      <td>493.8962</td>\n",
       "      <td>502.9006</td>\n",
       "      <td>509.9939</td>\n",
       "    </tr>\n",
       "    <tr>\n",
       "      <th>4</th>\n",
       "      <td>AUT</td>\n",
       "      <td>EU</td>\n",
       "      <td>83.940142</td>\n",
       "      <td>496.7423</td>\n",
       "      <td>484.8656</td>\n",
       "      <td>495.0375</td>\n",
       "    </tr>\n",
       "  </tbody>\n",
       "</table>\n",
       "</div>"
      ],
      "text/plain": [
       "  Country Code Continent_Code  internet_users_per_100      Math   Reading  \\\n",
       "0          ALB             EU               63.252933  413.1570  405.2588   \n",
       "1          ARE             AS               90.500000  427.4827  433.5423   \n",
       "2          ARG             SA               68.043064  409.0333  425.3031   \n",
       "3          AUS             OC               84.560519  493.8962  502.9006   \n",
       "4          AUT             EU               83.940142  496.7423  484.8656   \n",
       "\n",
       "    Science  \n",
       "0  427.2250  \n",
       "1  436.7311  \n",
       "2  432.2262  \n",
       "3  509.9939  \n",
       "4  495.0375  "
      ]
     },
     "execution_count": 68,
     "metadata": {},
     "output_type": "execute_result"
    }
   ],
   "source": [
    "pisa = pd.read_csv(\"2015_Pisa.csv\")\n",
    "pisa.head()"
   ]
  },
  {
   "cell_type": "code",
   "execution_count": 71,
   "id": "24d8586f",
   "metadata": {},
   "outputs": [
    {
     "data": {
      "text/html": [
       "<div>\n",
       "<style scoped>\n",
       "    .dataframe tbody tr th:only-of-type {\n",
       "        vertical-align: middle;\n",
       "    }\n",
       "\n",
       "    .dataframe tbody tr th {\n",
       "        vertical-align: top;\n",
       "    }\n",
       "\n",
       "    .dataframe thead th {\n",
       "        text-align: right;\n",
       "    }\n",
       "</style>\n",
       "<table border=\"1\" class=\"dataframe\">\n",
       "  <thead>\n",
       "    <tr style=\"text-align: right;\">\n",
       "      <th></th>\n",
       "      <th>count</th>\n",
       "      <th>mean</th>\n",
       "      <th>std</th>\n",
       "      <th>min</th>\n",
       "      <th>25%</th>\n",
       "      <th>50%</th>\n",
       "      <th>75%</th>\n",
       "      <th>max</th>\n",
       "    </tr>\n",
       "  </thead>\n",
       "  <tbody>\n",
       "    <tr>\n",
       "      <th>internet_users_per_100</th>\n",
       "      <td>70.0</td>\n",
       "      <td>71.973099</td>\n",
       "      <td>16.390632</td>\n",
       "      <td>21.976068</td>\n",
       "      <td>60.899020</td>\n",
       "      <td>72.99935</td>\n",
       "      <td>85.026763</td>\n",
       "      <td>98.2000</td>\n",
       "    </tr>\n",
       "    <tr>\n",
       "      <th>Math</th>\n",
       "      <td>70.0</td>\n",
       "      <td>460.971557</td>\n",
       "      <td>53.327205</td>\n",
       "      <td>327.702000</td>\n",
       "      <td>417.416075</td>\n",
       "      <td>477.60715</td>\n",
       "      <td>500.482925</td>\n",
       "      <td>564.1897</td>\n",
       "    </tr>\n",
       "    <tr>\n",
       "      <th>Reading</th>\n",
       "      <td>70.0</td>\n",
       "      <td>460.997291</td>\n",
       "      <td>49.502679</td>\n",
       "      <td>346.549000</td>\n",
       "      <td>426.948625</td>\n",
       "      <td>480.19985</td>\n",
       "      <td>499.687475</td>\n",
       "      <td>535.1002</td>\n",
       "    </tr>\n",
       "    <tr>\n",
       "      <th>Science</th>\n",
       "      <td>70.0</td>\n",
       "      <td>465.439093</td>\n",
       "      <td>48.397254</td>\n",
       "      <td>331.638800</td>\n",
       "      <td>425.923375</td>\n",
       "      <td>475.40005</td>\n",
       "      <td>502.431250</td>\n",
       "      <td>555.5747</td>\n",
       "    </tr>\n",
       "  </tbody>\n",
       "</table>\n",
       "</div>"
      ],
      "text/plain": [
       "                        count        mean        std         min         25%  \\\n",
       "internet_users_per_100   70.0   71.973099  16.390632   21.976068   60.899020   \n",
       "Math                     70.0  460.971557  53.327205  327.702000  417.416075   \n",
       "Reading                  70.0  460.997291  49.502679  346.549000  426.948625   \n",
       "Science                  70.0  465.439093  48.397254  331.638800  425.923375   \n",
       "\n",
       "                              50%         75%       max  \n",
       "internet_users_per_100   72.99935   85.026763   98.2000  \n",
       "Math                    477.60715  500.482925  564.1897  \n",
       "Reading                 480.19985  499.687475  535.1002  \n",
       "Science                 475.40005  502.431250  555.5747  "
      ]
     },
     "execution_count": 71,
     "metadata": {},
     "output_type": "execute_result"
    }
   ],
   "source": [
    "pisa.describe().T"
   ]
  },
  {
   "cell_type": "code",
   "execution_count": 72,
   "id": "592179df",
   "metadata": {},
   "outputs": [
    {
     "data": {
      "text/html": [
       "<div>\n",
       "<style scoped>\n",
       "    .dataframe tbody tr th:only-of-type {\n",
       "        vertical-align: middle;\n",
       "    }\n",
       "\n",
       "    .dataframe tbody tr th {\n",
       "        vertical-align: top;\n",
       "    }\n",
       "\n",
       "    .dataframe thead tr th {\n",
       "        text-align: left;\n",
       "    }\n",
       "\n",
       "    .dataframe thead tr:last-of-type th {\n",
       "        text-align: right;\n",
       "    }\n",
       "</style>\n",
       "<table border=\"1\" class=\"dataframe\">\n",
       "  <thead>\n",
       "    <tr>\n",
       "      <th></th>\n",
       "      <th colspan=\"8\" halign=\"left\">internet_users_per_100</th>\n",
       "      <th colspan=\"2\" halign=\"left\">Math</th>\n",
       "      <th>...</th>\n",
       "      <th colspan=\"2\" halign=\"left\">Reading</th>\n",
       "      <th colspan=\"8\" halign=\"left\">Science</th>\n",
       "    </tr>\n",
       "    <tr>\n",
       "      <th></th>\n",
       "      <th>count</th>\n",
       "      <th>mean</th>\n",
       "      <th>std</th>\n",
       "      <th>min</th>\n",
       "      <th>25%</th>\n",
       "      <th>50%</th>\n",
       "      <th>75%</th>\n",
       "      <th>max</th>\n",
       "      <th>count</th>\n",
       "      <th>mean</th>\n",
       "      <th>...</th>\n",
       "      <th>75%</th>\n",
       "      <th>max</th>\n",
       "      <th>count</th>\n",
       "      <th>mean</th>\n",
       "      <th>std</th>\n",
       "      <th>min</th>\n",
       "      <th>25%</th>\n",
       "      <th>50%</th>\n",
       "      <th>75%</th>\n",
       "      <th>max</th>\n",
       "    </tr>\n",
       "    <tr>\n",
       "      <th>Continent_Code</th>\n",
       "      <th></th>\n",
       "      <th></th>\n",
       "      <th></th>\n",
       "      <th></th>\n",
       "      <th></th>\n",
       "      <th></th>\n",
       "      <th></th>\n",
       "      <th></th>\n",
       "      <th></th>\n",
       "      <th></th>\n",
       "      <th></th>\n",
       "      <th></th>\n",
       "      <th></th>\n",
       "      <th></th>\n",
       "      <th></th>\n",
       "      <th></th>\n",
       "      <th></th>\n",
       "      <th></th>\n",
       "      <th></th>\n",
       "      <th></th>\n",
       "      <th></th>\n",
       "    </tr>\n",
       "  </thead>\n",
       "  <tbody>\n",
       "    <tr>\n",
       "      <th>AF</th>\n",
       "      <td>2.0</td>\n",
       "      <td>43.359918</td>\n",
       "      <td>7.297226</td>\n",
       "      <td>38.200000</td>\n",
       "      <td>40.779959</td>\n",
       "      <td>43.359918</td>\n",
       "      <td>45.939877</td>\n",
       "      <td>48.519836</td>\n",
       "      <td>2.0</td>\n",
       "      <td>363.212100</td>\n",
       "      <td>...</td>\n",
       "      <td>358.256450</td>\n",
       "      <td>361.0555</td>\n",
       "      <td>2.0</td>\n",
       "      <td>381.074250</td>\n",
       "      <td>7.536556</td>\n",
       "      <td>375.7451</td>\n",
       "      <td>378.409675</td>\n",
       "      <td>381.07425</td>\n",
       "      <td>383.738825</td>\n",
       "      <td>386.4034</td>\n",
       "    </tr>\n",
       "    <tr>\n",
       "      <th>AS</th>\n",
       "      <td>17.0</td>\n",
       "      <td>68.455613</td>\n",
       "      <td>21.086060</td>\n",
       "      <td>21.976068</td>\n",
       "      <td>50.300000</td>\n",
       "      <td>74.000000</td>\n",
       "      <td>84.948353</td>\n",
       "      <td>92.884826</td>\n",
       "      <td>17.0</td>\n",
       "      <td>466.216647</td>\n",
       "      <td>...</td>\n",
       "      <td>508.690500</td>\n",
       "      <td>535.1002</td>\n",
       "      <td>17.0</td>\n",
       "      <td>467.945847</td>\n",
       "      <td>56.671371</td>\n",
       "      <td>386.4854</td>\n",
       "      <td>417.611200</td>\n",
       "      <td>456.48360</td>\n",
       "      <td>523.277400</td>\n",
       "      <td>555.5747</td>\n",
       "    </tr>\n",
       "    <tr>\n",
       "      <th>EU</th>\n",
       "      <td>37.0</td>\n",
       "      <td>77.274888</td>\n",
       "      <td>12.425773</td>\n",
       "      <td>53.744979</td>\n",
       "      <td>68.632900</td>\n",
       "      <td>76.184000</td>\n",
       "      <td>87.479056</td>\n",
       "      <td>98.200000</td>\n",
       "      <td>37.0</td>\n",
       "      <td>477.981449</td>\n",
       "      <td>...</td>\n",
       "      <td>499.814600</td>\n",
       "      <td>526.4247</td>\n",
       "      <td>37.0</td>\n",
       "      <td>478.299381</td>\n",
       "      <td>34.450616</td>\n",
       "      <td>383.6824</td>\n",
       "      <td>460.774900</td>\n",
       "      <td>490.22500</td>\n",
       "      <td>501.936900</td>\n",
       "      <td>534.1937</td>\n",
       "    </tr>\n",
       "    <tr>\n",
       "      <th>OC</th>\n",
       "      <td>2.0</td>\n",
       "      <td>86.391704</td>\n",
       "      <td>2.589686</td>\n",
       "      <td>84.560519</td>\n",
       "      <td>85.476112</td>\n",
       "      <td>86.391704</td>\n",
       "      <td>87.307296</td>\n",
       "      <td>88.222889</td>\n",
       "      <td>2.0</td>\n",
       "      <td>494.559750</td>\n",
       "      <td>...</td>\n",
       "      <td>507.678175</td>\n",
       "      <td>509.2707</td>\n",
       "      <td>2.0</td>\n",
       "      <td>511.648700</td>\n",
       "      <td>2.340241</td>\n",
       "      <td>509.9939</td>\n",
       "      <td>510.821300</td>\n",
       "      <td>511.64870</td>\n",
       "      <td>512.476100</td>\n",
       "      <td>513.3035</td>\n",
       "    </tr>\n",
       "    <tr>\n",
       "      <th>SA</th>\n",
       "      <td>7.0</td>\n",
       "      <td>60.180494</td>\n",
       "      <td>9.772455</td>\n",
       "      <td>40.900000</td>\n",
       "      <td>57.116462</td>\n",
       "      <td>64.289000</td>\n",
       "      <td>66.321532</td>\n",
       "      <td>69.198471</td>\n",
       "      <td>7.0</td>\n",
       "      <td>402.887700</td>\n",
       "      <td>...</td>\n",
       "      <td>431.922700</td>\n",
       "      <td>458.5709</td>\n",
       "      <td>7.0</td>\n",
       "      <td>421.747186</td>\n",
       "      <td>18.470319</td>\n",
       "      <td>396.6836</td>\n",
       "      <td>408.205450</td>\n",
       "      <td>424.59050</td>\n",
       "      <td>433.794600</td>\n",
       "      <td>446.9561</td>\n",
       "    </tr>\n",
       "  </tbody>\n",
       "</table>\n",
       "<p>5 rows × 32 columns</p>\n",
       "</div>"
      ],
      "text/plain": [
       "               internet_users_per_100                                   \\\n",
       "                                count       mean        std        min   \n",
       "Continent_Code                                                           \n",
       "AF                                2.0  43.359918   7.297226  38.200000   \n",
       "AS                               17.0  68.455613  21.086060  21.976068   \n",
       "EU                               37.0  77.274888  12.425773  53.744979   \n",
       "OC                                2.0  86.391704   2.589686  84.560519   \n",
       "SA                                7.0  60.180494   9.772455  40.900000   \n",
       "\n",
       "                                                            Math              \\\n",
       "                      25%        50%        75%        max count        mean   \n",
       "Continent_Code                                                                 \n",
       "AF              40.779959  43.359918  45.939877  48.519836   2.0  363.212100   \n",
       "AS              50.300000  74.000000  84.948353  92.884826  17.0  466.216647   \n",
       "EU              68.632900  76.184000  87.479056  98.200000  37.0  477.981449   \n",
       "OC              85.476112  86.391704  87.307296  88.222889   2.0  494.559750   \n",
       "SA              57.116462  64.289000  66.321532  69.198471   7.0  402.887700   \n",
       "\n",
       "                ...     Reading           Science                         \\\n",
       "                ...         75%       max   count        mean        std   \n",
       "Continent_Code  ...                                                        \n",
       "AF              ...  358.256450  361.0555     2.0  381.074250   7.536556   \n",
       "AS              ...  508.690500  535.1002    17.0  467.945847  56.671371   \n",
       "EU              ...  499.814600  526.4247    37.0  478.299381  34.450616   \n",
       "OC              ...  507.678175  509.2707     2.0  511.648700   2.340241   \n",
       "SA              ...  431.922700  458.5709     7.0  421.747186  18.470319   \n",
       "\n",
       "                                                                       \n",
       "                     min         25%        50%         75%       max  \n",
       "Continent_Code                                                         \n",
       "AF              375.7451  378.409675  381.07425  383.738825  386.4034  \n",
       "AS              386.4854  417.611200  456.48360  523.277400  555.5747  \n",
       "EU              383.6824  460.774900  490.22500  501.936900  534.1937  \n",
       "OC              509.9939  510.821300  511.64870  512.476100  513.3035  \n",
       "SA              396.6836  408.205450  424.59050  433.794600  446.9561  \n",
       "\n",
       "[5 rows x 32 columns]"
      ]
     },
     "execution_count": 72,
     "metadata": {},
     "output_type": "execute_result"
    }
   ],
   "source": [
    "pisa.groupby(\"Continent_Code\").describe()"
   ]
  },
  {
   "cell_type": "code",
   "execution_count": 86,
   "id": "777f116e",
   "metadata": {},
   "outputs": [
    {
     "data": {
      "text/plain": [
       "0     413.1570\n",
       "1     496.7423\n",
       "2     506.9844\n",
       "3     441.1899\n",
       "4     521.2506\n",
       "5     437.1443\n",
       "6     492.3254\n",
       "7     505.9713\n",
       "8     511.0876\n",
       "9     485.8432\n",
       "10    519.5291\n",
       "11    511.0769\n",
       "12    492.9204\n",
       "13    492.4785\n",
       "14    453.6299\n",
       "15    464.0401\n",
       "16    476.8309\n",
       "17    503.7220\n",
       "18    488.0332\n",
       "19    489.7287\n",
       "20    478.3834\n",
       "21    485.7706\n",
       "22    482.3051\n",
       "23    419.6635\n",
       "24    371.3114\n",
       "25    478.6448\n",
       "26    417.9341\n",
       "27    512.2528\n",
       "28    501.7298\n",
       "29    504.4693\n",
       "30    491.6270\n",
       "31    443.9543\n",
       "32    494.0600\n",
       "33    475.2301\n",
       "34    509.9196\n",
       "35    493.9181\n",
       "36    420.4540\n",
       "Name: Math, dtype: float64"
      ]
     },
     "execution_count": 86,
     "metadata": {},
     "output_type": "execute_result"
    }
   ],
   "source": [
    "EU_Math = pisa[pisa[\"Continent_Code\"]==\"EU\"].Math.reset_index(drop=True)\n",
    "EU_Math"
   ]
  },
  {
   "cell_type": "code",
   "execution_count": 87,
   "id": "b154160e",
   "metadata": {},
   "outputs": [
    {
     "data": {
      "text/plain": [
       "0     427.4827\n",
       "1     531.2961\n",
       "2     403.8332\n",
       "3     547.9310\n",
       "4     386.1096\n",
       "5     469.6695\n",
       "6     380.2590\n",
       "7     532.4399\n",
       "8     459.8160\n",
       "9     524.1062\n",
       "10    396.2497\n",
       "11    543.8078\n",
       "12    446.1098\n",
       "13    402.4007\n",
       "14    564.1897\n",
       "15    415.4638\n",
       "16    494.5183\n",
       "Name: Math, dtype: float64"
      ]
     },
     "execution_count": 87,
     "metadata": {},
     "output_type": "execute_result"
    }
   ],
   "source": [
    "AS_Math = pisa[pisa[\"Continent_Code\"]==\"AS\"].Math.reset_index(drop=True)\n",
    "AS_Math"
   ]
  },
  {
   "cell_type": "code",
   "execution_count": 88,
   "id": "b3d90b32",
   "metadata": {},
   "outputs": [],
   "source": [
    "indTest = stats.ttest_ind(EU_Math, AS_Math, equal_var=True)"
   ]
  },
  {
   "cell_type": "code",
   "execution_count": 89,
   "id": "f2455071",
   "metadata": {},
   "outputs": [
    {
     "data": {
      "text/plain": [
       "Ttest_indResult(statistic=0.870055317967983, pvalue=0.38826888111307345)"
      ]
     },
     "execution_count": 89,
     "metadata": {},
     "output_type": "execute_result"
    }
   ],
   "source": [
    "indTest"
   ]
  },
  {
   "cell_type": "code",
   "execution_count": 91,
   "id": "caf1a330",
   "metadata": {},
   "outputs": [
    {
     "name": "stdout",
     "output_type": "stream",
     "text": [
      "Fail to reject the null\n"
     ]
    }
   ],
   "source": [
    "alpha = 0.05\n",
    "\n",
    "if indTest.pvalue < alpha:\n",
    "    print(\"There is significant difference for Math scores among EU and Asian countries.\")\n",
    "else:\n",
    "    print(\"Fail to reject the null\")"
   ]
  },
  {
   "cell_type": "code",
   "execution_count": 92,
   "id": "6b1ef8d5",
   "metadata": {},
   "outputs": [],
   "source": [
    "import seaborn as sns\n",
    "import matplotlib.pyplot as plt\n",
    "%matplotlib inline\n",
    "from collections import Counter\n",
    "import warnings\n",
    "warnings.filterwarnings('ignore') "
   ]
  },
  {
   "cell_type": "code",
   "execution_count": 93,
   "id": "73fce4a8",
   "metadata": {},
   "outputs": [
    {
     "data": {
      "image/png": "[encoded data removed]",
      "text/plain": [
       "<Figure size 432x288 with 1 Axes>"
      ]
     },
     "metadata": {
      "needs_background": "light"
     },
     "output_type": "display_data"
    }
   ],
   "source": [
    "sns.boxplot(x=pisa.Continent_Code, y=pisa.Math);"
   ]
  },
  {
   "cell_type": "code",
   "execution_count": null,
   "id": "b8ce0822",
   "metadata": {},
   "outputs": [],
   "source": []
  },
  {
   "cell_type": "code",
   "execution_count": null,
   "id": "392f7635",
   "metadata": {},
   "outputs": [],
   "source": []
  },
  {
   "cell_type": "code",
   "execution_count": null,
   "id": "1d6260c3",
   "metadata": {},
   "outputs": [],
   "source": []
  },
  {
   "cell_type": "code",
   "execution_count": null,
   "id": "944838d0",
   "metadata": {},
   "outputs": [],
   "source": []
  },
  {
   "cell_type": "code",
   "execution_count": null,
   "id": "b340f697",
   "metadata": {},
   "outputs": [],
   "source": []
  },
  {
   "cell_type": "code",
   "execution_count": null,
   "id": "13b2b22a",
   "metadata": {},
   "outputs": [],
   "source": []
  },
  {
   "cell_type": "code",
   "execution_count": null,
   "id": "23dd0741",
   "metadata": {},
   "outputs": [],
   "source": []
  },
  {
   "cell_type": "markdown",
   "id": "de4b8e68",
   "metadata": {},
   "source": [
    "ASSIGNMENT 4 Calculations"
   ]
  },
  {
   "cell_type": "code",
   "execution_count": 94,
   "id": "1082496a",
   "metadata": {},
   "outputs": [],
   "source": []
  },
  {
   "cell_type": "code",
   "execution_count": null,
   "id": "5317b69c",
   "metadata": {},
   "outputs": [],
   "source": []
  }
 ],
 "metadata": {
  "kernelspec": {
   "display_name": "Python 3 (ipykernel)",
   "language": "python",
   "name": "python3"
  },
  "language_info": {
   "codemirror_mode": {
    "name": "ipython",
    "version": 3
   },
   "file_extension": ".py",
   "mimetype": "text/x-python",
   "name": "python",
   "nbconvert_exporter": "python",
   "pygments_lexer": "ipython3",
   "version": "3.9.7"
  },
  "varInspector": {
   "cols": {
    "lenName": 16,
    "lenType": 16,
    "lenVar": 40
   },
   "kernels_config": {
    "python": {
     "delete_cmd_postfix": "",
     "delete_cmd_prefix": "del ",
     "library": "var_list.py",
     "varRefreshCmd": "print(var_dic_list())"
    },
    "r": {
     "delete_cmd_postfix": ") ",
     "delete_cmd_prefix": "rm(",
     "library": "var_list.r",
     "varRefreshCmd": "cat(var_dic_list()) "
    }
   },
   "types_to_exclude": [
    "module",
    "function",
    "builtin_function_or_method",
    "instance",
    "_Feature"
   ],
   "window_display": false
  }
 },
 "nbformat": 4,
 "nbformat_minor": 5
}
